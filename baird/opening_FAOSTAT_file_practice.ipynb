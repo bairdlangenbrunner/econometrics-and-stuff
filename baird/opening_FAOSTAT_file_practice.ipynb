{
 "cells": [
  {
   "cell_type": "code",
   "execution_count": 77,
   "metadata": {
    "ExecuteTime": {
     "end_time": "2018-08-29T15:51:05.512929Z",
     "start_time": "2018-08-29T15:51:05.508708Z"
    }
   },
   "outputs": [],
   "source": [
    "import pandas\n",
    "import numpy\n",
    "import matplotlib.pyplot as mp\n",
    "mp.rcParams.update({'mathtext.default': 'regular'})"
   ]
  },
  {
   "cell_type": "raw",
   "metadata": {
    "ExecuteTime": {
     "end_time": "2018-08-29T05:09:11.704324Z",
     "start_time": "2018-08-29T05:09:11.568784Z"
    }
   },
   "source": [
    "!unzip /Users/baird/Downloads/FAOSTAT/Production_Crops_E_All_Data_\\(Normalized\\).zip -d /Users/baird/Downloads/FAOSTAT/\n",
    "!unzip /Users/baird/Downloads/FAOSTAT/Environment_Fertilizers_E_All_Data_\\(Normalized\\).zip -d /Users/baird/Downloads/FAOSTAT/"
   ]
  },
  {
   "cell_type": "code",
   "execution_count": 20,
   "metadata": {
    "ExecuteTime": {
     "end_time": "2018-08-29T15:00:09.194872Z",
     "start_time": "2018-08-29T15:00:04.715447Z"
    }
   },
   "outputs": [],
   "source": [
    "ds_crops = pandas.read_csv('/Users/baird/Downloads/FAOSTAT/Production_Crops_E_All_Data_(Normalized).csv', encoding='ISO-8859-1')\n",
    "ds_fert = pandas.read_csv('/Users/baird/Downloads/FAOSTAT/Environment_Fertilizers_E_All_Data_(Normalized).csv', encoding='ISO-8859-1')"
   ]
  },
  {
   "cell_type": "code",
   "execution_count": 92,
   "metadata": {
    "ExecuteTime": {
     "end_time": "2018-08-29T15:58:28.294455Z",
     "start_time": "2018-08-29T15:58:28.077600Z"
    }
   },
   "outputs": [
    {
     "data": {
      "text/html": [
       "<div>\n",
       "<style scoped>\n",
       "    .dataframe tbody tr th:only-of-type {\n",
       "        vertical-align: middle;\n",
       "    }\n",
       "\n",
       "    .dataframe tbody tr th {\n",
       "        vertical-align: top;\n",
       "    }\n",
       "\n",
       "    .dataframe thead th {\n",
       "        text-align: right;\n",
       "    }\n",
       "</style>\n",
       "<table border=\"1\" class=\"dataframe\">\n",
       "  <thead>\n",
       "    <tr style=\"text-align: right;\">\n",
       "      <th></th>\n",
       "      <th>Area Code</th>\n",
       "      <th>Area</th>\n",
       "      <th>Item Code</th>\n",
       "      <th>Item</th>\n",
       "      <th>Element Code</th>\n",
       "      <th>Element</th>\n",
       "      <th>Year Code</th>\n",
       "      <th>Year</th>\n",
       "      <th>Unit</th>\n",
       "      <th>Value</th>\n",
       "      <th>Flag</th>\n",
       "    </tr>\n",
       "  </thead>\n",
       "  <tbody>\n",
       "    <tr>\n",
       "      <th>1565470</th>\n",
       "      <td>231</td>\n",
       "      <td>United States of America</td>\n",
       "      <td>221</td>\n",
       "      <td>Almonds, with shell</td>\n",
       "      <td>5312</td>\n",
       "      <td>Area harvested</td>\n",
       "      <td>1961</td>\n",
       "      <td>1961</td>\n",
       "      <td>ha</td>\n",
       "      <td>36138.0</td>\n",
       "      <td>NaN</td>\n",
       "    </tr>\n",
       "    <tr>\n",
       "      <th>1565471</th>\n",
       "      <td>231</td>\n",
       "      <td>United States of America</td>\n",
       "      <td>221</td>\n",
       "      <td>Almonds, with shell</td>\n",
       "      <td>5312</td>\n",
       "      <td>Area harvested</td>\n",
       "      <td>1962</td>\n",
       "      <td>1962</td>\n",
       "      <td>ha</td>\n",
       "      <td>37676.0</td>\n",
       "      <td>NaN</td>\n",
       "    </tr>\n",
       "  </tbody>\n",
       "</table>\n",
       "</div>"
      ],
      "text/plain": [
       "         Area Code                      Area  Item Code                 Item  \\\n",
       "1565470        231  United States of America        221  Almonds, with shell   \n",
       "1565471        231  United States of America        221  Almonds, with shell   \n",
       "\n",
       "         Element Code         Element  Year Code  Year Unit    Value Flag  \n",
       "1565470          5312  Area harvested       1961  1961   ha  36138.0  NaN  \n",
       "1565471          5312  Area harvested       1962  1962   ha  37676.0  NaN  "
      ]
     },
     "execution_count": 92,
     "metadata": {},
     "output_type": "execute_result"
    }
   ],
   "source": [
    "ds_crops[ds_crops['Area']=='United States of America'][:2]"
   ]
  },
  {
   "cell_type": "code",
   "execution_count": 91,
   "metadata": {
    "ExecuteTime": {
     "end_time": "2018-08-29T15:58:24.841590Z",
     "start_time": "2018-08-29T15:58:24.823681Z"
    }
   },
   "outputs": [
    {
     "data": {
      "text/html": [
       "<div>\n",
       "<style scoped>\n",
       "    .dataframe tbody tr th:only-of-type {\n",
       "        vertical-align: middle;\n",
       "    }\n",
       "\n",
       "    .dataframe tbody tr th {\n",
       "        vertical-align: top;\n",
       "    }\n",
       "\n",
       "    .dataframe thead th {\n",
       "        text-align: right;\n",
       "    }\n",
       "</style>\n",
       "<table border=\"1\" class=\"dataframe\">\n",
       "  <thead>\n",
       "    <tr style=\"text-align: right;\">\n",
       "      <th></th>\n",
       "      <th>Area Code</th>\n",
       "      <th>Area</th>\n",
       "      <th>Item Code</th>\n",
       "      <th>Item</th>\n",
       "      <th>Element Code</th>\n",
       "      <th>Element</th>\n",
       "      <th>Year Code</th>\n",
       "      <th>Year</th>\n",
       "      <th>Unit</th>\n",
       "      <th>Value</th>\n",
       "      <th>Flag</th>\n",
       "    </tr>\n",
       "  </thead>\n",
       "  <tbody>\n",
       "    <tr>\n",
       "      <th>6392</th>\n",
       "      <td>231</td>\n",
       "      <td>United States of America</td>\n",
       "      <td>3102</td>\n",
       "      <td>Nutrient nitrogen N (total)</td>\n",
       "      <td>5159</td>\n",
       "      <td>Average use per area of cropland</td>\n",
       "      <td>2002</td>\n",
       "      <td>2002</td>\n",
       "      <td>kg/ha</td>\n",
       "      <td>62.29</td>\n",
       "      <td>Fc</td>\n",
       "    </tr>\n",
       "    <tr>\n",
       "      <th>6393</th>\n",
       "      <td>231</td>\n",
       "      <td>United States of America</td>\n",
       "      <td>3102</td>\n",
       "      <td>Nutrient nitrogen N (total)</td>\n",
       "      <td>5159</td>\n",
       "      <td>Average use per area of cropland</td>\n",
       "      <td>2003</td>\n",
       "      <td>2003</td>\n",
       "      <td>kg/ha</td>\n",
       "      <td>66.16</td>\n",
       "      <td>Fc</td>\n",
       "    </tr>\n",
       "  </tbody>\n",
       "</table>\n",
       "</div>"
      ],
      "text/plain": [
       "      Area Code                      Area  Item Code  \\\n",
       "6392        231  United States of America       3102   \n",
       "6393        231  United States of America       3102   \n",
       "\n",
       "                             Item  Element Code  \\\n",
       "6392  Nutrient nitrogen N (total)          5159   \n",
       "6393  Nutrient nitrogen N (total)          5159   \n",
       "\n",
       "                               Element  Year Code  Year   Unit  Value Flag  \n",
       "6392  Average use per area of cropland       2002  2002  kg/ha  62.29   Fc  \n",
       "6393  Average use per area of cropland       2003  2003  kg/ha  66.16   Fc  "
      ]
     },
     "execution_count": 91,
     "metadata": {},
     "output_type": "execute_result"
    }
   ],
   "source": [
    "ds_fert[ds_fert['Area']=='United States of America'][:2]"
   ]
  },
  {
   "cell_type": "code",
   "execution_count": 31,
   "metadata": {
    "ExecuteTime": {
     "end_time": "2018-08-29T15:18:06.382884Z",
     "start_time": "2018-08-29T15:18:06.377413Z"
    }
   },
   "outputs": [],
   "source": [
    "element_crops = ds_crops['Element'].values"
   ]
  },
  {
   "cell_type": "code",
   "execution_count": 47,
   "metadata": {
    "ExecuteTime": {
     "end_time": "2018-08-29T15:43:50.652761Z",
     "start_time": "2018-08-29T15:43:50.649335Z"
    }
   },
   "outputs": [],
   "source": [
    "element_fert = ds_fert['Element'].values\n",
    "item_fert = ds_fert['Item'].values"
   ]
  },
  {
   "cell_type": "code",
   "execution_count": 90,
   "metadata": {
    "ExecuteTime": {
     "end_time": "2018-08-29T15:58:14.118786Z",
     "start_time": "2018-08-29T15:58:14.109257Z"
    }
   },
   "outputs": [
    {
     "data": {
      "text/plain": [
       "array(['Nutrient nitrogen N (total)', 'Nutrient phosphate P2O5 (total)',\n",
       "       'Nutrient potash K2O (total)'], dtype=object)"
      ]
     },
     "execution_count": 90,
     "metadata": {},
     "output_type": "execute_result"
    }
   ],
   "source": [
    "#numpy.unique(element_crops)\n",
    "numpy.unique(item_fert)"
   ]
  },
  {
   "cell_type": "code",
   "execution_count": 41,
   "metadata": {
    "ExecuteTime": {
     "end_time": "2018-08-29T15:43:15.571662Z",
     "start_time": "2018-08-29T15:43:14.479614Z"
    }
   },
   "outputs": [],
   "source": [
    "ds_crops_us_yield = ds_crops[(ds_crops['Element']=='Yield') & (ds_crops['Area']=='United States of America') \\\n",
    "          & (ds_crops['Item']=='Wheat')]\n",
    "ds_crops_us_prod = ds_crops[(ds_crops['Element']=='Production') & (ds_crops['Area']=='United States of America') \\\n",
    "          & (ds_crops['Item']=='Wheat')]\n",
    "\n",
    "#ds_crops_us_yield.plot(x='Year',y='Value')\n",
    "\n",
    "wheat_us_yield = ds_crops_us_yield['Value'].values\n",
    "year_us_yield = ds_crops_us_yield['Year'].values\n",
    "wheat_us_prod = ds_crops_us_prod['Value'].values\n",
    "year_us_prod = ds_crops_us_prod['Year'].values"
   ]
  },
  {
   "cell_type": "code",
   "execution_count": 55,
   "metadata": {
    "ExecuteTime": {
     "end_time": "2018-08-29T15:45:21.648037Z",
     "start_time": "2018-08-29T15:45:21.641031Z"
    }
   },
   "outputs": [],
   "source": [
    "ds_fert_us = ds_fert[(ds_fert['Area']=='United States of America') & (ds_fert['Item']=='Nutrient nitrogen N (total)')]\n",
    "\n",
    "year_us_fert = ds_fert_us['Year'].values\n",
    "data_us_fert = ds_fert_us['Value'].values"
   ]
  },
  {
   "cell_type": "code",
   "execution_count": 78,
   "metadata": {
    "ExecuteTime": {
     "end_time": "2018-08-29T15:51:08.966288Z",
     "start_time": "2018-08-29T15:51:08.809592Z"
    }
   },
   "outputs": [
    {
     "data": {
      "text/plain": [
       "[<matplotlib.lines.Line2D at 0x12346d5f8>]"
      ]
     },
     "execution_count": 78,
     "metadata": {},
     "output_type": "execute_result"
    },
    {
     "data": {
      "image/png": "[encoded data removed]",
      "text/plain": [
       "<Figure size 432x288 with 1 Axes>"
      ]
     },
     "metadata": {},
     "output_type": "display_data"
    }
   ],
   "source": [
    "mp.plot(year_us_fert, data_us_fert)"
   ]
  },
  {
   "cell_type": "code",
   "execution_count": 89,
   "metadata": {
    "ExecuteTime": {
     "end_time": "2018-08-29T15:56:58.868345Z",
     "start_time": "2018-08-29T15:56:58.520543Z"
    }
   },
   "outputs": [
    {
     "data": {
      "text/plain": [
       "Text(0.5,0,'year')"
      ]
     },
     "execution_count": 89,
     "metadata": {},
     "output_type": "execute_result"
    },
    {
     "data": {
      "image/png": "[encoded data removed]",
      "text/plain": [
       "<Figure size 306x216 with 2 Axes>"
      ]
     },
     "metadata": {},
     "output_type": "display_data"
    }
   ],
   "source": [
    "fontsize = 12\n",
    "\n",
    "fig = mp.figure(figsize=(4.25,3))\n",
    "ax = fig.add_subplot(111)\n",
    "ax.plot(year_us_yield, wheat_us_yield/1000., c='0.1')\n",
    "\n",
    "ax2 = ax.twinx()\n",
    "ax2.plot(year_us_fert, data_us_fert, c='firebrick', lw=2)\n",
    "ax2.set_ylim(45,85)\n",
    "ax2.tick_params(labelsize=fontsize, direction='in')\n",
    "ax2.set_yticks([50,60,70,80])\n",
    "ax2.set_ylabel('kg ha$^{\\,-1}$', fontsize=fontsize, rotation=-90, labelpad=25, color='firebrick')\n",
    "#ax2.spines['right'].set_color('firebrick')\n",
    "#ax2.xaxis.label.set_color('red')\n",
    "ax2.tick_params(axis='y', colors='firebrick')\n",
    "\n",
    "ax.tick_params(labelsize=fontsize, direction='in')\n",
    "ax.set_ylabel('kha', fontsize=fontsize)\n",
    "ax.set_xlabel('year', fontsize=fontsize)"
   ]
  },
  {
   "cell_type": "code",
   "execution_count": null,
   "metadata": {},
   "outputs": [],
   "source": []
  }
 ],
 "metadata": {
  "kernelspec": {
   "display_name": "Python 3",
   "language": "python",
   "name": "python3"
  },
  "language_info": {
   "codemirror_mode": {
    "name": "ipython",
    "version": 3
   },
   "file_extension": ".py",
   "mimetype": "text/x-python",
   "name": "python",
   "nbconvert_exporter": "python",
   "pygments_lexer": "ipython3",
   "version": "3.6.6"
  }
 },
 "nbformat": 4,
 "nbformat_minor": 2
}
